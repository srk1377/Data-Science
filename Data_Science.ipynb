{
 "cells": [
  {
   "cell_type": "code",
   "execution_count": 2,
   "id": "3b9a59b8",
   "metadata": {},
   "outputs": [
    {
     "name": "stdout",
     "output_type": "stream",
     "text": [
      "hello world\n"
     ]
    }
   ],
   "source": [
    "print(\"hello world\")"
   ]
  },
  {
   "cell_type": "code",
   "execution_count": 16,
   "id": "6be939dd",
   "metadata": {},
   "outputs": [
    {
     "name": "stdout",
     "output_type": "stream",
     "text": [
      "true-false\n"
     ]
    }
   ],
   "source": [
    "print(\"true-false\")"
   ]
  },
  {
   "cell_type": "code",
   "execution_count": 7,
   "id": "b3a58654",
   "metadata": {},
   "outputs": [
    {
     "name": "stdout",
     "output_type": "stream",
     "text": [
      "shubham\n"
     ]
    }
   ],
   "source": [
    "print(\"shubham\")"
   ]
  },
  {
   "cell_type": "code",
   "execution_count": 17,
   "id": "b964c316",
   "metadata": {},
   "outputs": [
    {
     "data": {
      "text/plain": [
       "2"
      ]
     },
     "execution_count": 17,
     "metadata": {},
     "output_type": "execute_result"
    }
   ],
   "source": [
    " True + True"
   ]
  },
  {
   "cell_type": "code",
   "execution_count": 20,
   "id": "8770653c",
   "metadata": {},
   "outputs": [
    {
     "name": "stdout",
     "output_type": "stream",
     "text": [
      "2.2\n"
     ]
    }
   ],
   "source": [
    "x=11\n",
    "y=5\n",
    "print(x/y)"
   ]
  }
 ],
 "metadata": {
  "kernelspec": {
   "display_name": "Python 3 (ipykernel)",
   "language": "python",
   "name": "python3"
  },
  "language_info": {
   "codemirror_mode": {
    "name": "ipython",
    "version": 3
   },
   "file_extension": ".py",
   "mimetype": "text/x-python",
   "name": "python",
   "nbconvert_exporter": "python",
   "pygments_lexer": "ipython3",
   "version": "3.11.3"
  }
 },
 "nbformat": 4,
 "nbformat_minor": 5
}
